{
 "cells": [
  {
   "cell_type": "code",
   "execution_count": 1,
   "metadata": {},
   "outputs": [],
   "source": [
    "import numpy as np\n",
    "from qiskit.circuit import QuantumCircuit\n",
    "from qiskit_aer import StatevectorSimulator"
   ]
  },
  {
   "cell_type": "code",
   "execution_count": 2,
   "metadata": {},
   "outputs": [],
   "source": [
    "def encode(bases, states):\n",
    "    message = []\n",
    "    rpr = []\n",
    "    for b,s in zip(bases,states):\n",
    "        qc = QuantumCircuit(1,1)\n",
    "        match b,s:\n",
    "            case 0,0: rpr.append(\"|0>\")\n",
    "            case 0,1: qc.x(0), rpr.append(\"|1>\")\n",
    "            case 1,0: qc.h(0),rpr.append(\"|+>\")\n",
    "            case 1,1: qc.x(0), qc.h(0), rpr.append(\"|->\")\n",
    "        message.append(qc)\n",
    "    \n",
    "    print(f\"Encoded msg: \\t{''.join(rpr)}\")\n",
    "    return message\n",
    "\n",
    "def decode(msg: list[QuantumCircuit], bases):\n",
    "    backend = StatevectorSimulator()\n",
    "    states = []\n",
    "    for m,b in zip(msg,bases):\n",
    "        match m,b:\n",
    "            case _,0: m.measure(0,0)\n",
    "            case _,1: m.h(0), m.measure(0,0)\n",
    "        states.append(int(backend.run(circuits=m, shots=1,memory=True)\n",
    "                          .result()\n",
    "                          .get_memory()[0]))\n",
    "    return states\n"
   ]
  },
  {
   "cell_type": "code",
   "execution_count": 3,
   "metadata": {},
   "outputs": [],
   "source": [
    "def env_init(n_bits: int, intercepted=False):\n",
    "    num_qubits = n_bits\n",
    "\n",
    "    alice_bases = np.random.randint(2, size=num_qubits)\n",
    "    alice_bits = np.random.randint(2, size=num_qubits)\n",
    "    bob_bases = np.random.randint(2, size=num_qubits)\n",
    "\n",
    "    eve_bases = []\n",
    "    if intercepted:\n",
    "        eve_bases= np.random.randint(2, size=num_qubits)\n",
    "    return alice_bits, alice_bases, bob_bases, eve_bases"
   ]
  },
  {
   "cell_type": "code",
   "execution_count": 4,
   "metadata": {},
   "outputs": [],
   "source": [
    "def simulate_bb84(n_bits: int, alice_bits, alice_bases, bob_bases, eve_bases=[]):\n",
    "    \"\"\"return decoded message containing states in |0> or |1>\"\"\"\n",
    "    msg = encode(alice_bases, alice_bits)\n",
    "    # print(f\"Alice's Encoded Message:\\t {np.array2string(alice_encoded_key)}\")\n",
    "\n",
    "    if len(eve_bases):\n",
    "        eve_eavesdrop = np.array(decode(msg, eve_bases))\n",
    "        print(f\"Eve's message:\\t {np.array2string(eve_eavesdrop)}\")\n",
    "    \n",
    "    #If basis is a Pauli matrix (invert = itself), the measured result will match if the basis is matched\n",
    "    bob_key = np.array(decode(msg, bob_bases))\n",
    "    print(f\"Bob's message: \\t {np.array2string(bob_key)}\")\n",
    "\n",
    "    return bob_key\n",
    "def sample_bits(bits, selection):\n",
    "    sample = []\n",
    "    for i in selection:\n",
    "        i = np.mod(i, len(bits))\n",
    "        sample.append(bits[i])\n",
    "    return sample\n",
    "\n",
    "def remove_bargage(pubA, pubB, sec):\n",
    "    good_bits = []\n",
    "    for i in range(len(pubA)):\n",
    "        if pubA[i] == pubB[i]:\n",
    "            good_bits.append(sec[i])\n",
    "    return good_bits    "
   ]
  },
  {
   "cell_type": "code",
   "execution_count": 5,
   "metadata": {},
   "outputs": [
    {
     "name": "stdout",
     "output_type": "stream",
     "text": [
      "Alice's message: [1 1 0 0 0 0 1 1 0 0 1 0]\n",
      "Alice's basis: \t Z Z X Z Z Z X X X X X Z\n",
      "Bob's basis: \t X Z X Z X X X Z X X X Z\n",
      "Eve's basis: \t X X Z Z X X Z X X X X Z\n",
      "Encoded msg: \t|1>|1>|+>|0>|0>|0>|->|->|+>|+>|->|0>\n",
      "Eve's message:\t [0 0 1 0 1 0 1 1 0 0 1 0]\n",
      "Bob's message: \t [1 0 1 0 0 1 0 1 0 0 0 0]\n",
      "Remove bargage...\n",
      "Alice's key: \t[1, 0, 0, 1, 0, 0, 1, 0]\n",
      "Bob's key:  \t[0, 1, 0, 0, 0, 0, 0, 0]\n",
      "Select at\t[11  0  7  9  1 11 11]\n",
      "Alice's sample:\t[1, 1, 0, 0, 0, 1, 1]\n",
      "Bob's sample:  \t[0, 0, 0, 1, 1, 0, 0]\n",
      "Intercepted!\n"
     ]
    }
   ],
   "source": [
    "\n",
    "\n",
    "nbits = 12\n",
    "\n",
    "alice_bits, alice_bases,bob_bases,eve_bases = env_init(nbits,intercepted=True)\n",
    "alice_bits = np.array([1,1,0,0,0,0,1,1,0,0,1,0])\n",
    "alice_bases = np.array([0,0,1,0,0,0,1,1,1,1,1,0])\n",
    "bob_bases = np.array([1,0,1,0,1,1,1,0,1,1,1,0])\n",
    "# eve_bases = [0,1,1,1,1,0,0,0,0,0,1,1]\n",
    "print(f\"Alice's message: {np.array2string(alice_bits)}\")\n",
    "print(f\"Alice's basis: \\t {' '.join(['X' if b else 'Z' for b in alice_bases])}\")\n",
    "print(f\"Bob's basis: \\t {' '.join(['X' if b else 'Z' for b in bob_bases])}\")\n",
    "\n",
    "if len(eve_bases):\n",
    "    print(f\"Eve's basis: \\t {' '.join(['X' if b else 'Z' for b in eve_bases])}\")\n",
    "    \n",
    "\n",
    "\n",
    "bob_decoded = simulate_bb84(nbits, alice_bits, alice_bases, bob_bases,eve_bases=eve_bases)\n",
    "\n",
    "print(\"Remove bargage...\")\n",
    "alice_key = remove_bargage(alice_bases, bob_bases, alice_bits)\n",
    "bob_key = remove_bargage(alice_bases, bob_bases, bob_decoded)\n",
    "print(f\"Alice's key: \\t{alice_key}\")\n",
    "print(f\"Bob's key:  \\t{bob_key}\")\n",
    "\n",
    "sample_size = 7\n",
    "bit_selection = np.random.randint(nbits, size=sample_size)\n",
    "print(f\"Select at\\t{bit_selection}\")\n",
    "bob_sample = sample_bits(bob_key, bit_selection)\n",
    "alice_sample = sample_bits(alice_key, bit_selection)\n",
    "\n",
    "print(f\"Alice's sample:\\t{alice_sample}\")\n",
    "print(f\"Bob's sample:  \\t{bob_sample}\")\n",
    "if bob_sample != alice_sample:\n",
    "    print(\"Intercepted!\")"
   ]
  },
  {
   "cell_type": "code",
   "execution_count": null,
   "metadata": {},
   "outputs": [],
   "source": []
  }
 ],
 "metadata": {
  "kernelspec": {
   "display_name": "Python 3",
   "language": "python",
   "name": "python3"
  },
  "language_info": {
   "codemirror_mode": {
    "name": "ipython",
    "version": 3
   },
   "file_extension": ".py",
   "mimetype": "text/x-python",
   "name": "python",
   "nbconvert_exporter": "python",
   "pygments_lexer": "ipython3",
   "version": "3.12.2"
  }
 },
 "nbformat": 4,
 "nbformat_minor": 2
}
