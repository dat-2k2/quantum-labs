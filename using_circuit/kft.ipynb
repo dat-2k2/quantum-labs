{
 "cells": [
  {
   "cell_type": "code",
   "execution_count": 1,
   "metadata": {},
   "outputs": [],
   "source": [
    "from qiskit.circuit import *\n",
    "import numpy as np\n",
    "from qiskit_aer import StatevectorSimulator\n",
    "from qiskit.result import marginal_counts\n",
    "from qiskit.visualization import plot_histogram, plot_bloch_multivector\n",
    "from qiskit.visualization.state_visualization import _bloch_multivector_data\n",
    "from qiskit.quantum_info import random_statevector, Statevector\n"
   ]
  },
  {
   "cell_type": "code",
   "execution_count": 2,
   "metadata": {},
   "outputs": [],
   "source": [
    "def kft(n:int, qc:QuantumCircuit):\n",
    "    assert qc.num_qubits >= n\n",
    "    print(qc.qubits)\n",
    "    for i in range(n-1,-1,-1):\n",
    "        qc.h(i)\n",
    "        for j in range(i):\n",
    "            qc.cp(np.pi/2**(i-j),control_qubit=j,target_qubit=i)\n",
    "\n",
    "    for i in range(n//2):\n",
    "        qc.swap(i,n-1-i)\n",
    "    qc.barrier()"
   ]
  },
  {
   "cell_type": "code",
   "execution_count": 3,
   "metadata": {},
   "outputs": [],
   "source": [
    "n: int = 3\n",
    "x: int = 5\n",
    "init_vals = [(x & 1<<i)>>i for i in range(n)]\n",
    "\n",
    "qc = QuantumCircuit(n)\n",
    "for _ in range(n):\n",
    "    qc.initialize(random_statevector(2),_)\n",
    "    # if init_vals[_]:\n",
    "    #     qc.x(_)\n",
    "\n"
   ]
  },
  {
   "cell_type": "code",
   "execution_count": 4,
   "metadata": {},
   "outputs": [
    {
     "name": "stdout",
     "output_type": "stream",
     "text": [
      "Statevector([ 0.09095522+0.01665139j, -0.03322423-0.02768489j,\n",
      "              0.28356589+0.55397344j,  0.0117944 -0.29082688j,\n",
      "              0.0774087 +0.05639665j, -0.01857239-0.04076215j,\n",
      "              0.01581349+0.64439634j,  0.14164346-0.26613015j],\n",
      "            dims=(2, 2, 2))\n"
     ]
    }
   ],
   "source": [
    "init_state = Statevector.from_instruction(qc)\n",
    "print(init_state)"
   ]
  },
  {
   "cell_type": "code",
   "execution_count": 5,
   "metadata": {},
   "outputs": [
    {
     "name": "stdout",
     "output_type": "stream",
     "text": [
      "[Qubit(QuantumRegister(3, 'q'), 0), Qubit(QuantumRegister(3, 'q'), 1), Qubit(QuantumRegister(3, 'q'), 2)]\n"
     ]
    },
    {
     "data": {
      "image/png": "[encoded data removed]",
      "text/plain": [
       "<Figure size 1458.05x284.278 with 1 Axes>"
      ]
     },
     "execution_count": 5,
     "metadata": {},
     "output_type": "execute_result"
    }
   ],
   "source": [
    "qc.barrier()\n",
    "kft(n,qc)\n",
    "qc.draw(output='mpl')"
   ]
  },
  {
   "cell_type": "code",
   "execution_count": 6,
   "metadata": {},
   "outputs": [
    {
     "name": "stdout",
     "output_type": "stream",
     "text": [
      "Statevector([ 0.20130784+0.22840035j,  0.06846292+0.05393097j,\n",
      "             -0.21903532-0.47042267j, -0.05307434-0.15428556j,\n",
      "              0.12943662+0.67062781j,  0.00505457+0.10729443j,\n",
      "              0.12639341-0.32529997j, -0.00128547-0.06314812j],\n",
      "            dims=(2, 2, 2))\n"
     ]
    }
   ],
   "source": [
    "final_state = Statevector.from_instruction(qc)\n",
    "print(final_state)"
   ]
  },
  {
   "cell_type": "code",
   "execution_count": 7,
   "metadata": {},
   "outputs": [
    {
     "name": "stdout",
     "output_type": "stream",
     "text": [
      "[ 0.20130784+0.22840035j  0.06846292+0.05393097j -0.21903532-0.47042267j\n",
      " -0.05307434-0.15428556j  0.12943662+0.67062781j  0.00505457+0.10729443j\n",
      "  0.12639341-0.32529997j -0.00128547-0.06314812j]\n",
      "[ 0.20130784+0.22840035j  0.06846292+0.05393097j -0.21903532-0.47042267j\n",
      " -0.05307434-0.15428556j  0.12943662+0.67062781j  0.00505457+0.10729443j\n",
      "  0.12639341-0.32529997j -0.00128547-0.06314812j]\n"
     ]
    }
   ],
   "source": [
    "# Verify by the definition of QFT\n",
    "# works with any states\n",
    "# Discrete fft use the minus sign in the exponent, so qft is equal to the orthonormal inverse discrete fft\n",
    "print(np.array(np.fft.ifft(np.array(init_state),norm='ortho')))\n",
    "print(np.array(final_state))"
   ]
  }
 ],
 "metadata": {
  "kernelspec": {
   "display_name": "Python 3",
   "language": "python",
   "name": "python3"
  },
  "language_info": {
   "codemirror_mode": {
    "name": "ipython",
    "version": 3
   },
   "file_extension": ".py",
   "mimetype": "text/x-python",
   "name": "python",
   "nbconvert_exporter": "python",
   "pygments_lexer": "ipython3",
   "version": "3.12.2"
  }
 },
 "nbformat": 4,
 "nbformat_minor": 2
}
